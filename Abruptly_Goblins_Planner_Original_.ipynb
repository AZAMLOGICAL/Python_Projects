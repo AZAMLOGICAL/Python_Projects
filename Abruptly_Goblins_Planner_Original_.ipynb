{
 "cells": [
  {
   "cell_type": "markdown",
   "metadata": {
    "id": "hVBJKBtxT6UE"
   },
   "source": [
    "# Introduction\n",
    "\n",
    "Opening your comic book store, the Sorcery Society, has been a lifelong dream come true. You quickly diversified your shop offerings to include miniatures, plush toys, collectible card games, and board games. Eventually, the store became more a games store with a selection of this week's newest comic books and a small offering of graphic novel paperbacks. Completing your transformation means offering space for local tabletop gamers. They love to play their favorite RPG, \"Abruptly Goblins!\" and will happily pay you per chair to secure the space to do it. Unfortunately, planning the game night has fallen to you. If you pick the wrong night, not enough people will come and the game night will be cancelled. You decide it's best that you automate the game night selector to get the most people through the door. First you need to create a list of people who will be attending the game night.\n",
    "\n",
    "**Instructions**\n",
    "\n",
    "Create an empty list called `gamers`. This will be your list of people who are attending game night."
   ]
  },
  {
   "cell_type": "code",
   "execution_count": 1,
   "metadata": {
    "id": "mWTveOtgT6UJ"
   },
   "outputs": [],
   "source": [
    "gamers=[]"
   ]
  },
  {
   "cell_type": "markdown",
   "metadata": {
    "id": "yKvW46byT6UL"
   },
   "source": [
    "Now we want to create a function that will update this list and add a new gamer to the this `gamers` list. Each `gamer` should be a dictionary with the following keys:\n",
    " - `\"name\"`: a string that contains the gamer's full or presumed name. E.g., \"Vicky Very\"\n",
    " - `\"availability\"`: a list of strings containing the names of the days of the week that the gamer is available. E.g., [\"Monday\", \"Thursday\", \"Sunday\"]\n",
    " \n",
    "**Instructions**\n",
    "\n",
    "Create a function called `add_gamer` that takes two parameters: `gamer` and `gamers_list`. The function should check that the argument passed to the `gamer` parameter has both `\"name\"` and a `\"availability\"` as keys and if so add `gamer` to `gamers_list`."
   ]
  },
  {
   "cell_type": "code",
   "execution_count": 2,
   "metadata": {
    "id": "Yjn4oI4LT6UN"
   },
   "outputs": [],
   "source": [
    "def add_gamer(gamer,gamers_list):\n",
    "    if gamer['name']!=False and gamer['availability']!=False:\n",
    "        gamers_list.append(gamer)\n",
    "        return gamers_list\n",
    "    else:\n",
    "        return 'Either name or availability is not available'\n",
    "        "
   ]
  },
  {
   "cell_type": "markdown",
   "metadata": {
    "id": "DzNrL76ET6UO"
   },
   "source": [
    "Next we want to add our first gamer! Her name is Kimberly Warner and she's available on Mondays, Tuesdays, and Fridays.\n",
    "\n",
    "**Instructions**\n",
    "\n",
    "1. Create a dictionary called `kimberly` with the name and availability given above.\n",
    "2. Call `add_gamer` with `kimberly` as the first argument and `gamers` as the second."
   ]
  },
  {
   "cell_type": "code",
   "execution_count": 3,
   "metadata": {
    "colab": {
     "base_uri": "https://localhost:8080/"
    },
    "id": "5-PFzeIGT6UO",
    "outputId": "96bac253-0705-46ce-d43d-699fa408f90a"
   },
   "outputs": [
    {
     "name": "stdout",
     "output_type": "stream",
     "text": [
      "[{'name': 'kimberly', 'availability': ['Monday', 'Tuesday', 'Wednesday']}, {'name': 'akash', 'availability': ['Saturday', 'Sunday', 'Wednesday']}, {'name': 'salman', 'availability': ['Saturday', 'Wednesday', 'Friday']}, {'name': 'faizan', 'availability': ['Saturday', 'Sunday', 'Friday']}, {'name': 'rafi', 'availability': ['Saturday', 'Sunday', 'Thursday']}]\n"
     ]
    }
   ],
   "source": [
    "d={'name':'kimberly','availability':['Monday','Tuesday','Wednesday']}\n",
    "e={'name':'akash','availability':['Saturday','Sunday','Wednesday']}\n",
    "f={'name':'salman','availability':['Saturday','Wednesday','Friday']}\n",
    "g={'name':'faizan','availability':['Saturday','Sunday','Friday']}\n",
    "h={'name':'rafi','availability':['Saturday','Sunday','Thursday']}\n",
    "add_gamer(d,gamers)\n",
    "add_gamer(e,gamers)\n",
    "add_gamer(f,gamers)\n",
    "add_gamer(g,gamers)\n",
    "print(add_gamer(h,gamers))"
   ]
  },
  {
   "cell_type": "markdown",
   "metadata": {
    "id": "145kueyFT6UR"
   },
   "source": [
    "Great! Let's add a couple more gamers to the list!"
   ]
  },
  {
   "cell_type": "markdown",
   "metadata": {
    "id": "UJ9JbhhST6US"
   },
   "source": [
    "## Finding the perfect availability\n",
    "\n",
    "Now that we have a list of all of the people interested in game night, we want to be able to calculate which nights would have the most participation. First we need to create a frequency table which correlates each day of the week with gamer availability.\n",
    "\n",
    "**Instructions**\n",
    "\n",
    "Create a function called `build_daily_frequency_table` that takes no argument returns a dictionary with the days of the week as keys and `0`s for values. We'll be using this to count the availability per night. Call `build_daily_frequency_table` and save the results to a variable called `count_availability`."
   ]
  },
  {
   "cell_type": "code",
   "execution_count": 4,
   "metadata": {
    "id": "GKsd5m0pT6US"
   },
   "outputs": [],
   "source": [
    "def build_daily_frequency_table():\n",
    "    return {'Monday':0,'Tuesday':0,'Wednesday':0,'Thursday':0,'Friday':0,'Saturday':0,'Sunday':0}\n",
    "count_availability=build_daily_frequency_table()"
   ]
  },
  {
   "cell_type": "markdown",
   "metadata": {
    "id": "AA_yE49hT6UT"
   },
   "source": [
    "Next we need to count the number of people every night.\n",
    "\n",
    "**Instructions**\n",
    "\n",
    "Write a function called `calculate_availability` that takes a list of gamers as an argument `gamers_list` and a frequency table `available_frequency`. The function should iterate through each gamer in `gamers_list` and iterate through each day in the gamer's availability. For each day in the gamer's availability, add one to that date on the frequency table."
   ]
  },
  {
   "cell_type": "markdown",
   "metadata": {
    "id": "vFtcNIxTT6UU"
   },
   "source": [
    "Now let's use these tools to find the best night to run Abruptly Goblins!\n",
    "\n",
    "**Instructions**\n",
    "\n",
    "Call `calculate_availability` with `gamers` and `count_availability`. Print out `count_availability` afterwards."
   ]
  },
  {
   "cell_type": "code",
   "execution_count": 5,
   "metadata": {
    "colab": {
     "base_uri": "https://localhost:8080/"
    },
    "id": "6ZXeKwtWT6UV",
    "outputId": "9d9c5ec8-7b25-40ee-9744-fbb773cb05a4"
   },
   "outputs": [
    {
     "name": "stdout",
     "output_type": "stream",
     "text": [
      "[{'name': 'kimberly', 'availability': ['Monday', 'Tuesday', 'Wednesday']}, {'name': 'akash', 'availability': ['Saturday', 'Sunday', 'Wednesday']}, {'name': 'salman', 'availability': ['Saturday', 'Wednesday', 'Friday']}, {'name': 'faizan', 'availability': ['Saturday', 'Sunday', 'Friday']}, {'name': 'rafi', 'availability': ['Saturday', 'Sunday', 'Thursday']}]\n"
     ]
    }
   ],
   "source": [
    "print(gamers)"
   ]
  },
  {
   "cell_type": "code",
   "execution_count": 6,
   "metadata": {
    "id": "UG53ponET6UW"
   },
   "outputs": [],
   "source": [
    "def calculate_availabilty(gamers_list,available_frequency):\n",
    "    lst_available_frequency=list(available_frequency.keys())\n",
    "    lst=[0,0,0,0,0,0,0]\n",
    "    for i in gamers_list:\n",
    "        for j in i['availability']:\n",
    "            if j==lst_available_frequency[0]:\n",
    "                lst[0]+=1\n",
    "            if j==lst_available_frequency[1]:\n",
    "                lst[1]+=1\n",
    "            if j==lst_available_frequency[2]:\n",
    "                lst[2]+=1\n",
    "            if j==lst_available_frequency[3]:\n",
    "                lst[3]+=1\n",
    "            if j==lst_available_frequency[4]:\n",
    "                lst[4]+=1\n",
    "            if j==lst_available_frequency[5]:\n",
    "                lst[5]+=1\n",
    "            if j==lst_available_frequency[6]:\n",
    "                lst[6]+=1\n",
    "    available_frequency={key:val for key,val in zip(available_frequency.keys(),lst)}\n",
    "    return available_frequency\n",
    "count_availability=calculate_availabilty(gamers,count_availability)"
   ]
  },
  {
   "cell_type": "markdown",
   "metadata": {
    "id": "tM3uIlOmT6UX"
   },
   "source": [
    "Lastly we need a way to pick the day with the most available people to attend so that we can schedule game night on that night.\n",
    "\n",
    "**Instructions**\n",
    "\n",
    "Write a function `find_best_night` that takes a dictionary `availability_table` and returns the key with the highest number."
   ]
  },
  {
   "cell_type": "code",
   "execution_count": 7,
   "metadata": {
    "id": "kT0PR0CQT6UX"
   },
   "outputs": [],
   "source": [
    "def find_best_night(availability_table):\n",
    "    highest_number=max(list(availability_table.values()))\n",
    "    for i in availability_table:\n",
    "        if availability_table[i]==highest_number:\n",
    "            return i\n",
    "        "
   ]
  },
  {
   "cell_type": "markdown",
   "metadata": {
    "id": "nWgIx4MZT6UY"
   },
   "source": [
    "Now let's find the best day to host game night.\n",
    "\n",
    "**Instructions**\n",
    "\n",
    "Call `find_best_night` with `count_availability`, store the result in a variable called `game_night`.\n",
    "Print out `game_night` to find out which day it is."
   ]
  },
  {
   "cell_type": "code",
   "execution_count": 8,
   "metadata": {
    "colab": {
     "base_uri": "https://localhost:8080/"
    },
    "id": "09duEtv9T6UZ",
    "outputId": "2f6e07f5-4d86-4e09-a55b-40c6e7eba195"
   },
   "outputs": [
    {
     "name": "stdout",
     "output_type": "stream",
     "text": [
      "Saturday\n"
     ]
    }
   ],
   "source": [
    "game_night=find_best_night(count_availability)\n",
    "print(game_night)"
   ]
  },
  {
   "cell_type": "markdown",
   "metadata": {
    "id": "eWTbzHMZT6UZ"
   },
   "source": [
    "And let's make a list of all of the people who are available that night.\n",
    "\n",
    "**Instructions**\n",
    "\n",
    "* Create a function `available_on_night` that takes two parameters: `gamers_list` and `day` and returns a list of people who are available on that particular day.\n",
    "* Call `available_on_night` with `gamers` and `game_night` and save the result into the variable `attending_game_night`.\n",
    "* Print `attending_game_night`."
   ]
  },
  {
   "cell_type": "code",
   "execution_count": 9,
   "metadata": {
    "colab": {
     "base_uri": "https://localhost:8080/"
    },
    "id": "inenGnUxT6Ua",
    "outputId": "ac083ef5-b8a8-466b-b86f-d7522471f89d"
   },
   "outputs": [
    {
     "name": "stdout",
     "output_type": "stream",
     "text": [
      "['akash', 'salman', 'faizan', 'rafi']\n"
     ]
    }
   ],
   "source": [
    "def available_on_night(gamers_list,day):\n",
    "  lst=[]\n",
    "  for i in gamers_list:\n",
    "    if (day in i['availability']):\n",
    "      lst.append(i['name'])\n",
    "  return lst\n",
    "attending_game_night=available_on_night(gamers,game_night)\n",
    "print(attending_game_night)\n",
    "\n"
   ]
  },
  {
   "cell_type": "markdown",
   "metadata": {
    "id": "8d2B3PTsT6Ua"
   },
   "source": [
    "## Generating an E-mail for the Participants\n",
    "\n",
    "With the best day for Abruptly Goblins! determined with computer precision, we need to let the attendees know that the game night is on a night they can attend. Let's start by creating a form email to send to each of the participants that we'll fill out with data later.\n",
    "\n",
    "**Instructions**\n",
    "\n",
    "Define a string, called `form_email` with interpolation variables `{name}`, `{day_of_week}`, and `{game}` (in case we decide we want to use this featureset to host a different game night). Use it to tell your gaming attendees the night their Abruptly Goblins! game can be played."
   ]
  },
  {
   "cell_type": "code",
   "execution_count": 10,
   "metadata": {
    "id": "M99iNgGkT6Ub"
   },
   "outputs": [],
   "source": [
    "form_mail='''Dear {},\n",
    "This is to inform to you that , this {} ,the game of {} shall be organised this week.\n",
    "Your presence is highly solicited\n",
    "Regards,\n",
    "MOHD AZAM\n",
    "The Sorcery Society'''"
   ]
  },
  {
   "cell_type": "markdown",
   "metadata": {
    "id": "CU2XGjn6T6Uc"
   },
   "source": [
    "**Instructions**\n",
    "\n",
    "Create a function `send_email` with three parameters: `gamers_who_can_attend`, `day`, and `game`. Print `form_email` for each gamer in `gamers_who_can_attend` with the appropriate `day` and `game`.\n",
    "Call `send_email` with `attending_game_night`, `game_night`, and `\"Abruptly Goblins!\"`."
   ]
  },
  {
   "cell_type": "code",
   "execution_count": 11,
   "metadata": {
    "colab": {
     "base_uri": "https://localhost:8080/"
    },
    "id": "SWywzF3RT6Uc",
    "outputId": "8108493a-3c41-419e-84cc-8d5643b74890"
   },
   "outputs": [
    {
     "name": "stdout",
     "output_type": "stream",
     "text": [
      "Dear akash,\n",
      "This is to inform to you that , this Saturday ,the game of Abruptly goblins shall be organised this week.\n",
      "Your presence is highly solicited\n",
      "Regards,\n",
      "MOHD AZAM\n",
      "The Sorcery Society\n",
      "_._._._._._._._._._._._._._._._._._._._._._._._._._._._._._._._._._._._._._._._._._._._._._._._._._._._._._._._._._._._._._._._._._._._._._._._._._._._._._._._._._._._._._._._._._._._._._._._._._._._.\n",
      "Dear salman,\n",
      "This is to inform to you that , this Saturday ,the game of Abruptly goblins shall be organised this week.\n",
      "Your presence is highly solicited\n",
      "Regards,\n",
      "MOHD AZAM\n",
      "The Sorcery Society\n",
      "_._._._._._._._._._._._._._._._._._._._._._._._._._._._._._._._._._._._._._._._._._._._._._._._._._._._._._._._._._._._._._._._._._._._._._._._._._._._._._._._._._._._._._._._._._._._._._._._._._._._.\n",
      "Dear faizan,\n",
      "This is to inform to you that , this Saturday ,the game of Abruptly goblins shall be organised this week.\n",
      "Your presence is highly solicited\n",
      "Regards,\n",
      "MOHD AZAM\n",
      "The Sorcery Society\n",
      "_._._._._._._._._._._._._._._._._._._._._._._._._._._._._._._._._._._._._._._._._._._._._._._._._._._._._._._._._._._._._._._._._._._._._._._._._._._._._._._._._._._._._._._._._._._._._._._._._._._._.\n",
      "Dear rafi,\n",
      "This is to inform to you that , this Saturday ,the game of Abruptly goblins shall be organised this week.\n",
      "Your presence is highly solicited\n",
      "Regards,\n",
      "MOHD AZAM\n",
      "The Sorcery Society\n",
      "_._._._._._._._._._._._._._._._._._._._._._._._._._._._._._._._._._._._._._._._._._._._._._._._._._._._._._._._._._._._._._._._._._._._._._._._._._._._._._._._._._._._._._._._._._._._._._._._._._._._.\n"
     ]
    }
   ],
   "source": [
    "def send_mail(gamers_who_can_attend,day,game):\n",
    "   print(form_mail.format(gamers_who_can_attend,game,day))\n",
    "for i in range(len(attending_game_night)):\n",
    "  send_mail(attending_game_night[i],'Abruptly goblins',game_night)\n",
    "  print('_.'*100)"
   ]
  },
  {
   "cell_type": "markdown",
   "metadata": {
    "id": "27ld2USlT6Ud"
   },
   "source": [
    "### Afterward\n",
    "\n",
    "You feel bad for the folks who weren't able to attend on the decided upon game night, and try to use your currently written methods to have a second game night of the week.\n",
    "\n",
    "**Instructions**\n",
    "\n",
    "* Create a list `unable_to_attend_best_night` of everyone in `gamers` that wasn't able to attend game night on `game_night`.\n",
    "* Create `second_night_availability` frequency table by calling `build_daily_frequency_table`.\n",
    "* Call `calculate_availability` with `unable_to_attend_best_night` and `second_night_availability`.\n",
    "* Call `find_best_night` with the now filled-in `second_night_availability`, save the results in `second_night`.\n"
   ]
  },
  {
   "cell_type": "markdown",
   "metadata": {
    "id": "pbp7uzP1jDit"
   },
   "source": [
    "Creating unable_to_attend_best_night list:"
   ]
  },
  {
   "cell_type": "code",
   "execution_count": 12,
   "metadata": {
    "colab": {
     "base_uri": "https://localhost:8080/"
    },
    "id": "QZHtmHsLT6Ud",
    "outputId": "c4607b84-6775-45d4-a248-8272c85f6345"
   },
   "outputs": [
    {
     "name": "stdout",
     "output_type": "stream",
     "text": [
      "[{'name': 'kimberly', 'availability': ['Monday', 'Tuesday', 'Wednesday']}]\n"
     ]
    }
   ],
   "source": [
    "unable_to_attend_best_night=[]\n",
    "for i in range(len(gamers)):\n",
    "  if (gamers[i]['name'] not in attending_game_night):\n",
    "    unable_to_attend_best_night.append(gamers[i])\n",
    "print(unable_to_attend_best_night)"
   ]
  },
  {
   "cell_type": "markdown",
   "metadata": {
    "id": "kUti_Pioi10w"
   },
   "source": [
    "Creating second_night_availability frequency table:"
   ]
  },
  {
   "cell_type": "code",
   "execution_count": 13,
   "metadata": {
    "id": "DaHLS1vljbLI"
   },
   "outputs": [],
   "source": [
    "second_night_availability=build_daily_frequency_table()"
   ]
  },
  {
   "cell_type": "markdown",
   "metadata": {
    "id": "P8jxpT1Fjjfa"
   },
   "source": [
    "Calling calculate_availability with unable_to_attend_best_night and second_night_availability:"
   ]
  },
  {
   "cell_type": "code",
   "execution_count": 14,
   "metadata": {
    "id": "xAcksCZgjwbE"
   },
   "outputs": [],
   "source": [
    "second_night_availability=calculate_availabilty(unable_to_attend_best_night,second_night_availability)"
   ]
  },
  {
   "cell_type": "markdown",
   "metadata": {
    "id": "ui6Ld07GkZ13"
   },
   "source": [
    "Calling find_best_night with the now filled-in second_night_availability, save the results in second_night"
   ]
  },
  {
   "cell_type": "code",
   "execution_count": 15,
   "metadata": {
    "colab": {
     "base_uri": "https://localhost:8080/"
    },
    "id": "rCJRO2SvkjQu",
    "outputId": "c86d955a-734d-4105-8f62-7d67d9954b88"
   },
   "outputs": [
    {
     "name": "stdout",
     "output_type": "stream",
     "text": [
      "Monday\n"
     ]
    }
   ],
   "source": [
    "second_night=find_best_night(second_night_availability)\n",
    "print(second_night)"
   ]
  },
  {
   "cell_type": "markdown",
   "metadata": {
    "id": "j95aq-8iT6Ue"
   },
   "source": [
    "Let's send out an email to everyone (whether they can attend the first night or not) whose marked themselves as available on our second game night.\n",
    "\n",
    "**Instructions**\n",
    "\n",
    "* Create the list `available_second_game_night` by calling `available_on_night` with `gamers` and `second_night`\n",
    "* Let the gamers know by calling `send_email` with `available_second_game_night`, `second_night`, and \"Abruptly Goblins!\""
   ]
  },
  {
   "cell_type": "code",
   "execution_count": 16,
   "metadata": {
    "colab": {
     "base_uri": "https://localhost:8080/"
    },
    "id": "GV07cioGT6Ue",
    "outputId": "ee3cc22e-c9c7-4246-9f83-fb731e5ce4a1"
   },
   "outputs": [
    {
     "name": "stdout",
     "output_type": "stream",
     "text": [
      "Dear kimberly,\n",
      "This is to inform to you that , this Monday ,the game of Abruptly goblins shall be organised this week.\n",
      "Your presence is highly solicited\n",
      "Regards,\n",
      "MOHD AZAM\n",
      "The Sorcery Society\n",
      "_._._._._._._._._._._._._._._._._._._._._._._._._._._._._._._._._._._._._._._._._._._._._._._._._._._._._._._._._._._._._._._._._._._._._._._._._._._._._._._._._._._._._._._._._._._._._._._._._._._._.\n"
     ]
    }
   ],
   "source": [
    "available_second_game_night=available_on_night(gamers,second_night)\n",
    "for i in range(len(available_second_game_night)):\n",
    "  send_mail(available_second_game_night[i],'Abruptly goblins',second_night)\n",
    "  print('_.'*100)"
   ]
  }
 ],
 "metadata": {
  "colab": {
   "collapsed_sections": [],
   "name": "Abruptly Goblins Planner Original (1) (1).ipynb",
   "provenance": []
  },
  "kernelspec": {
   "display_name": "Python 3 (ipykernel)",
   "language": "python",
   "name": "python3"
  },
  "language_info": {
   "codemirror_mode": {
    "name": "ipython",
    "version": 3
   },
   "file_extension": ".py",
   "mimetype": "text/x-python",
   "name": "python",
   "nbconvert_exporter": "python",
   "pygments_lexer": "ipython3",
   "version": "3.9.7"
  }
 },
 "nbformat": 4,
 "nbformat_minor": 1
}
